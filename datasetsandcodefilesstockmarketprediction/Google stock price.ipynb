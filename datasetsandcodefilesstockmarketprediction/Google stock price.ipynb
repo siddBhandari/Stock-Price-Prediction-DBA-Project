{
 "cells": [
  {
   "cell_type": "code",
   "execution_count": 31,
   "metadata": {
    "slideshow": {
     "slide_type": "skip"
    }
   },
   "outputs": [],
   "source": [
    "import numpy as np \n",
    "import pandas as pd \n",
    "import matplotlib.pyplot as plt \n",
    "from sklearn.preprocessing import MinMaxScaler\n",
    "from keras.models import Sequential\n",
    "from keras.layers import Dense,LSTM,Dropout\n",
    "import seaborn as sns"
   ]
  },
  {
   "cell_type": "code",
   "execution_count": 3,
   "metadata": {},
   "outputs": [
    {
     "data": {
      "text/html": [
       "<div>\n",
       "<style scoped>\n",
       "    .dataframe tbody tr th:only-of-type {\n",
       "        vertical-align: middle;\n",
       "    }\n",
       "\n",
       "    .dataframe tbody tr th {\n",
       "        vertical-align: top;\n",
       "    }\n",
       "\n",
       "    .dataframe thead th {\n",
       "        text-align: right;\n",
       "    }\n",
       "</style>\n",
       "<table border=\"1\" class=\"dataframe\">\n",
       "  <thead>\n",
       "    <tr style=\"text-align: right;\">\n",
       "      <th></th>\n",
       "      <th>Date</th>\n",
       "      <th>Open</th>\n",
       "      <th>High</th>\n",
       "      <th>Low</th>\n",
       "      <th>Close</th>\n",
       "      <th>Volume</th>\n",
       "    </tr>\n",
       "  </thead>\n",
       "  <tbody>\n",
       "    <tr>\n",
       "      <th>0</th>\n",
       "      <td>1/3/2012</td>\n",
       "      <td>325.25</td>\n",
       "      <td>332.83</td>\n",
       "      <td>324.97</td>\n",
       "      <td>663.59</td>\n",
       "      <td>7,380,500</td>\n",
       "    </tr>\n",
       "    <tr>\n",
       "      <th>1</th>\n",
       "      <td>1/4/2012</td>\n",
       "      <td>331.27</td>\n",
       "      <td>333.87</td>\n",
       "      <td>329.08</td>\n",
       "      <td>666.45</td>\n",
       "      <td>5,749,400</td>\n",
       "    </tr>\n",
       "    <tr>\n",
       "      <th>2</th>\n",
       "      <td>1/5/2012</td>\n",
       "      <td>329.83</td>\n",
       "      <td>330.75</td>\n",
       "      <td>326.89</td>\n",
       "      <td>657.21</td>\n",
       "      <td>6,590,300</td>\n",
       "    </tr>\n",
       "    <tr>\n",
       "      <th>3</th>\n",
       "      <td>1/6/2012</td>\n",
       "      <td>328.34</td>\n",
       "      <td>328.77</td>\n",
       "      <td>323.68</td>\n",
       "      <td>648.24</td>\n",
       "      <td>5,405,900</td>\n",
       "    </tr>\n",
       "    <tr>\n",
       "      <th>4</th>\n",
       "      <td>1/9/2012</td>\n",
       "      <td>322.04</td>\n",
       "      <td>322.29</td>\n",
       "      <td>309.46</td>\n",
       "      <td>620.76</td>\n",
       "      <td>11,688,800</td>\n",
       "    </tr>\n",
       "  </tbody>\n",
       "</table>\n",
       "</div>"
      ],
      "text/plain": [
       "       Date    Open    High     Low   Close      Volume\n",
       "0  1/3/2012  325.25  332.83  324.97  663.59   7,380,500\n",
       "1  1/4/2012  331.27  333.87  329.08  666.45   5,749,400\n",
       "2  1/5/2012  329.83  330.75  326.89  657.21   6,590,300\n",
       "3  1/6/2012  328.34  328.77  323.68  648.24   5,405,900\n",
       "4  1/9/2012  322.04  322.29  309.46  620.76  11,688,800"
      ]
     },
     "execution_count": 3,
     "metadata": {},
     "output_type": "execute_result"
    }
   ],
   "source": [
    "data = pd.read_csv('Google_train_data.csv')\n",
    "data.head()"
   ]
  },
  {
   "cell_type": "code",
   "execution_count": 27,
   "metadata": {
    "scrolled": false
   },
   "outputs": [
    {
     "data": {
      "image/png": "[encoded data removed]",
      "text/plain": [
       "<Figure size 432x288 with 1 Axes>"
      ]
     },
     "metadata": {
      "needs_background": "light"
     },
     "output_type": "display_data"
    }
   ],
   "source": [
    "plt.plot(data['Open'], color = 'red', label = 'Open')\n",
    "plt.plot(data['Close'], color = 'green', label = 'Close')\n",
    "plt.title('Google stock price prediction')\n",
    "plt.xlabel('Time')\n",
    "plt.ylabel('Stock Price')\n",
    "plt.legend()\n",
    "plt.show()"
   ]
  },
  {
   "cell_type": "code",
   "execution_count": 9,
   "metadata": {},
   "outputs": [
    {
     "name": "stdout",
     "output_type": "stream",
     "text": [
      "<class 'pandas.core.frame.DataFrame'>\n",
      "Int64Index: 1149 entries, 0 to 1257\n",
      "Data columns (total 6 columns):\n",
      " #   Column  Non-Null Count  Dtype  \n",
      "---  ------  --------------  -----  \n",
      " 0   Date    1149 non-null   object \n",
      " 1   Open    1149 non-null   float64\n",
      " 2   High    1149 non-null   float64\n",
      " 3   Low     1149 non-null   float64\n",
      " 4   Close   1149 non-null   float64\n",
      " 5   Volume  1149 non-null   object \n",
      "dtypes: float64(4), object(2)\n",
      "memory usage: 62.8+ KB\n"
     ]
    }
   ],
   "source": [
    "data.info()"
   ]
  },
  {
   "cell_type": "code",
   "execution_count": 10,
   "metadata": {},
   "outputs": [],
   "source": [
    "data[\"Close\"]=pd.to_numeric(data.Close,errors='coerce')\n",
    "data = data.dropna()\n",
    "trainData = data.iloc[:,4:5].values"
   ]
  },
  {
   "cell_type": "code",
   "execution_count": 11,
   "metadata": {},
   "outputs": [
    {
     "name": "stdout",
     "output_type": "stream",
     "text": [
      "<class 'pandas.core.frame.DataFrame'>\n",
      "Int64Index: 1149 entries, 0 to 1257\n",
      "Data columns (total 6 columns):\n",
      " #   Column  Non-Null Count  Dtype  \n",
      "---  ------  --------------  -----  \n",
      " 0   Date    1149 non-null   object \n",
      " 1   Open    1149 non-null   float64\n",
      " 2   High    1149 non-null   float64\n",
      " 3   Low     1149 non-null   float64\n",
      " 4   Close   1149 non-null   float64\n",
      " 5   Volume  1149 non-null   object \n",
      "dtypes: float64(4), object(2)\n",
      "memory usage: 62.8+ KB\n"
     ]
    }
   ],
   "source": [
    "data.info()"
   ]
  },
  {
   "cell_type": "code",
   "execution_count": 12,
   "metadata": {},
   "outputs": [
    {
     "data": {
      "text/plain": [
       "(1149, 1)"
      ]
     },
     "execution_count": 12,
     "metadata": {},
     "output_type": "execute_result"
    }
   ],
   "source": [
    "sc = MinMaxScaler(feature_range=(0,1))\n",
    "trainData = sc.fit_transform(trainData)\n",
    "trainData.shape"
   ]
  },
  {
   "cell_type": "code",
   "execution_count": 13,
   "metadata": {},
   "outputs": [],
   "source": [
    "X_train = []\n",
    "y_train = []\n",
    "\n",
    "for i in range (60,1149): #60 : timestep // 1149 : length of the data\n",
    "    X_train.append(trainData[i-60:i,0]) \n",
    "    y_train.append(trainData[i,0])\n",
    "\n",
    "X_train,y_train = np.array(X_train),np.array(y_train)"
   ]
  },
  {
   "cell_type": "code",
   "execution_count": 14,
   "metadata": {},
   "outputs": [
    {
     "data": {
      "text/plain": [
       "(1089, 60, 1)"
      ]
     },
     "execution_count": 14,
     "metadata": {},
     "output_type": "execute_result"
    }
   ],
   "source": [
    "X_train = np.reshape(X_train,(X_train.shape[0],X_train.shape[1],1)) #adding the batch_size axis\n",
    "X_train.shape"
   ]
  },
  {
   "cell_type": "code",
   "execution_count": 15,
   "metadata": {},
   "outputs": [],
   "source": [
    "model = Sequential()\n",
    "\n",
    "model.add(LSTM(units=100, return_sequences = True, input_shape =(X_train.shape[1],1)))\n",
    "model.add(Dropout(0.2))\n",
    "\n",
    "model.add(LSTM(units=100, return_sequences = True))\n",
    "model.add(Dropout(0.2))\n",
    "\n",
    "model.add(LSTM(units=100, return_sequences = True))\n",
    "model.add(Dropout(0.2))\n",
    "\n",
    "model.add(LSTM(units=100, return_sequences = False))\n",
    "model.add(Dropout(0.2))\n",
    "\n",
    "model.add(Dense(units =1))\n",
    "model.compile(optimizer='adam',loss=\"mean_squared_error\")"
   ]
  },
  {
   "cell_type": "code",
   "execution_count": 16,
   "metadata": {},
   "outputs": [
    {
     "name": "stdout",
     "output_type": "stream",
     "text": [
      "Epoch 1/20\n",
      "35/35 - 24s - loss: 0.0457 - 24s/epoch - 679ms/step\n",
      "Epoch 2/20\n",
      "35/35 - 8s - loss: 0.0111 - 8s/epoch - 220ms/step\n",
      "Epoch 3/20\n",
      "35/35 - 7s - loss: 0.0105 - 7s/epoch - 210ms/step\n",
      "Epoch 4/20\n",
      "35/35 - 7s - loss: 0.0095 - 7s/epoch - 186ms/step\n",
      "Epoch 5/20\n",
      "35/35 - 7s - loss: 0.0085 - 7s/epoch - 209ms/step\n",
      "Epoch 6/20\n",
      "35/35 - 7s - loss: 0.0081 - 7s/epoch - 193ms/step\n",
      "Epoch 7/20\n",
      "35/35 - 7s - loss: 0.0080 - 7s/epoch - 192ms/step\n",
      "Epoch 8/20\n",
      "35/35 - 7s - loss: 0.0079 - 7s/epoch - 190ms/step\n",
      "Epoch 9/20\n",
      "35/35 - 5s - loss: 0.0069 - 5s/epoch - 154ms/step\n",
      "Epoch 10/20\n",
      "35/35 - 6s - loss: 0.0064 - 6s/epoch - 178ms/step\n",
      "Epoch 11/20\n",
      "35/35 - 7s - loss: 0.0063 - 7s/epoch - 210ms/step\n",
      "Epoch 12/20\n",
      "35/35 - 8s - loss: 0.0061 - 8s/epoch - 216ms/step\n",
      "Epoch 13/20\n",
      "35/35 - 6s - loss: 0.0058 - 6s/epoch - 182ms/step\n",
      "Epoch 14/20\n",
      "35/35 - 7s - loss: 0.0058 - 7s/epoch - 195ms/step\n",
      "Epoch 15/20\n",
      "35/35 - 7s - loss: 0.0056 - 7s/epoch - 191ms/step\n",
      "Epoch 16/20\n",
      "35/35 - 7s - loss: 0.0061 - 7s/epoch - 199ms/step\n",
      "Epoch 17/20\n",
      "35/35 - 6s - loss: 0.0049 - 6s/epoch - 179ms/step\n",
      "Epoch 18/20\n",
      "35/35 - 7s - loss: 0.0073 - 7s/epoch - 190ms/step\n",
      "Epoch 19/20\n",
      "35/35 - 7s - loss: 0.0048 - 7s/epoch - 200ms/step\n",
      "Epoch 20/20\n",
      "35/35 - 8s - loss: 0.0050 - 8s/epoch - 217ms/step\n"
     ]
    }
   ],
   "source": [
    "hist = model.fit(X_train, y_train, epochs = 20, batch_size = 32, verbose=2)"
   ]
  },
  {
   "cell_type": "code",
   "execution_count": 17,
   "metadata": {},
   "outputs": [
    {
     "data": {
      "image/png": "[encoded data removed]",
      "text/plain": [
       "<Figure size 432x288 with 1 Axes>"
      ]
     },
     "metadata": {
      "needs_background": "light"
     },
     "output_type": "display_data"
    }
   ],
   "source": [
    "plt.plot(hist.history['loss'])\n",
    "plt.title('Training model loss')\n",
    "plt.ylabel('loss')\n",
    "plt.xlabel('epoch')\n",
    "plt.legend(['train'], loc='upper left')\n",
    "plt.show()"
   ]
  },
  {
   "cell_type": "code",
   "execution_count": 18,
   "metadata": {},
   "outputs": [
    {
     "data": {
      "text/plain": [
       "(192, 60, 1)"
      ]
     },
     "execution_count": 18,
     "metadata": {},
     "output_type": "execute_result"
    }
   ],
   "source": [
    "testData = pd.read_csv('Google_test_data.csv')\n",
    "testData[\"Close\"]=pd.to_numeric(testData.Close,errors='coerce')\n",
    "testData = testData.dropna()\n",
    "testData = testData.iloc[:,4:5]\n",
    "y_test = testData.iloc[60:,0:].values \n",
    "\n",
    "inputClosing = testData.iloc[:,0:].values \n",
    "inputClosing_scaled = sc.transform(inputClosing)\n",
    "inputClosing_scaled.shape\n",
    "X_test = []\n",
    "length = len(testData)\n",
    "timestep = 60\n",
    "for i in range(timestep,length):  \n",
    "    X_test.append(inputClosing_scaled[i-timestep:i,0])\n",
    "X_test = np.array(X_test)\n",
    "X_test = np.reshape(X_test,(X_test.shape[0],X_test.shape[1],1))\n",
    "X_test.shape"
   ]
  },
  {
   "cell_type": "code",
   "execution_count": 19,
   "metadata": {},
   "outputs": [
    {
     "data": {
      "text/plain": [
       "array([[1.0692806 ],\n",
       "       [1.0739379 ],\n",
       "       [1.0856999 ],\n",
       "       [1.1031642 ],\n",
       "       [1.1193261 ],\n",
       "       [1.1246924 ],\n",
       "       [1.1172653 ],\n",
       "       [1.1022116 ],\n",
       "       [1.089205  ],\n",
       "       [1.0823927 ],\n",
       "       [1.0744976 ],\n",
       "       [1.0637953 ],\n",
       "       [1.053688  ],\n",
       "       [1.044318  ],\n",
       "       [1.0407014 ],\n",
       "       [1.0434108 ],\n",
       "       [1.0582063 ],\n",
       "       [1.0839939 ],\n",
       "       [1.1159954 ],\n",
       "       [1.1496812 ],\n",
       "       [1.1690153 ],\n",
       "       [1.1723201 ],\n",
       "       [1.1575608 ],\n",
       "       [1.1306645 ],\n",
       "       [1.101987  ],\n",
       "       [1.0808067 ],\n",
       "       [1.0702288 ],\n",
       "       [1.0656432 ],\n",
       "       [1.0588796 ],\n",
       "       [1.049851  ],\n",
       "       [1.0395982 ],\n",
       "       [1.0277095 ],\n",
       "       [1.0103498 ],\n",
       "       [0.98823833],\n",
       "       [0.9759125 ],\n",
       "       [0.980083  ],\n",
       "       [0.99785626],\n",
       "       [1.0222343 ],\n",
       "       [1.0481203 ],\n",
       "       [1.0657369 ],\n",
       "       [1.0813142 ],\n",
       "       [1.09729   ],\n",
       "       [1.1143806 ],\n",
       "       [1.1303904 ],\n",
       "       [1.1419843 ],\n",
       "       [1.1451125 ],\n",
       "       [1.1374991 ],\n",
       "       [1.1276741 ],\n",
       "       [1.121579  ],\n",
       "       [1.1225066 ],\n",
       "       [1.1310158 ],\n",
       "       [1.1389613 ],\n",
       "       [1.1427777 ],\n",
       "       [1.1416433 ],\n",
       "       [1.1400397 ],\n",
       "       [1.136337  ],\n",
       "       [1.1285918 ],\n",
       "       [1.1229815 ],\n",
       "       [1.1274755 ],\n",
       "       [1.1413361 ],\n",
       "       [1.1641582 ],\n",
       "       [1.1937208 ],\n",
       "       [1.218268  ],\n",
       "       [1.2282097 ],\n",
       "       [1.2221688 ],\n",
       "       [1.2049272 ],\n",
       "       [1.1882666 ],\n",
       "       [1.1780238 ],\n",
       "       [1.1754936 ],\n",
       "       [1.1773121 ],\n",
       "       [1.1813987 ],\n",
       "       [1.1850619 ],\n",
       "       [1.183762  ],\n",
       "       [1.1797732 ],\n",
       "       [1.1753045 ],\n",
       "       [1.17295   ],\n",
       "       [1.1735764 ],\n",
       "       [1.1773219 ],\n",
       "       [1.1871219 ],\n",
       "       [1.2030889 ],\n",
       "       [1.2247381 ],\n",
       "       [1.2472625 ],\n",
       "       [1.2630152 ],\n",
       "       [1.2688597 ],\n",
       "       [1.2726315 ],\n",
       "       [1.28139   ],\n",
       "       [1.2952751 ],\n",
       "       [1.309113  ],\n",
       "       [1.3186109 ],\n",
       "       [1.3220592 ],\n",
       "       [1.3230755 ],\n",
       "       [1.3287945 ],\n",
       "       [1.3413738 ],\n",
       "       [1.3521966 ],\n",
       "       [1.353878  ],\n",
       "       [1.34414   ],\n",
       "       [1.3240778 ],\n",
       "       [1.2982026 ],\n",
       "       [1.273485  ],\n",
       "       [1.2590828 ],\n",
       "       [1.2584089 ],\n",
       "       [1.2700007 ],\n",
       "       [1.2904713 ],\n",
       "       [1.312324  ],\n",
       "       [1.3293183 ],\n",
       "       [1.3375064 ],\n",
       "       [1.3383235 ],\n",
       "       [1.3350496 ],\n",
       "       [1.3331753 ],\n",
       "       [1.3351015 ],\n",
       "       [1.3413725 ],\n",
       "       [1.3519542 ],\n",
       "       [1.3642671 ],\n",
       "       [1.3779604 ],\n",
       "       [1.3943392 ],\n",
       "       [1.4092891 ],\n",
       "       [1.4212244 ],\n",
       "       [1.4308124 ],\n",
       "       [1.4410659 ],\n",
       "       [1.4293522 ],\n",
       "       [1.3899978 ],\n",
       "       [1.3328189 ],\n",
       "       [1.2778245 ],\n",
       "       [1.2384131 ],\n",
       "       [1.2160268 ],\n",
       "       [1.2069684 ],\n",
       "       [1.2065113 ],\n",
       "       [1.2115498 ],\n",
       "       [1.2131467 ],\n",
       "       [1.2067776 ],\n",
       "       [1.2031945 ],\n",
       "       [1.2104442 ],\n",
       "       [1.2249835 ],\n",
       "       [1.2368064 ],\n",
       "       [1.2436352 ],\n",
       "       [1.2462864 ],\n",
       "       [1.2441952 ],\n",
       "       [1.2372217 ],\n",
       "       [1.2275271 ],\n",
       "       [1.2142236 ],\n",
       "       [1.1994622 ],\n",
       "       [1.1832619 ],\n",
       "       [1.1544943 ],\n",
       "       [1.1179814 ],\n",
       "       [1.080009  ],\n",
       "       [1.0477195 ],\n",
       "       [1.0296373 ],\n",
       "       [1.0303203 ],\n",
       "       [1.046821  ],\n",
       "       [1.0720439 ],\n",
       "       [1.1008354 ],\n",
       "       [1.1274359 ],\n",
       "       [1.1492975 ],\n",
       "       [1.1671209 ],\n",
       "       [1.1805863 ],\n",
       "       [1.1910418 ],\n",
       "       [1.2007141 ],\n",
       "       [1.2082868 ],\n",
       "       [1.206859  ],\n",
       "       [1.1944677 ],\n",
       "       [1.1737943 ],\n",
       "       [1.1510643 ],\n",
       "       [1.1346073 ],\n",
       "       [1.1300993 ],\n",
       "       [1.1388868 ],\n",
       "       [1.1588727 ],\n",
       "       [1.1812123 ],\n",
       "       [1.2009118 ],\n",
       "       [1.2181629 ],\n",
       "       [1.2331009 ],\n",
       "       [1.2449872 ],\n",
       "       [1.254007  ],\n",
       "       [1.2605271 ],\n",
       "       [1.2629615 ],\n",
       "       [1.2611691 ],\n",
       "       [1.2529204 ],\n",
       "       [1.2412416 ],\n",
       "       [1.2310278 ],\n",
       "       [1.2230124 ],\n",
       "       [1.2161962 ],\n",
       "       [1.2340462 ],\n",
       "       [1.276521  ],\n",
       "       [1.328275  ],\n",
       "       [1.3721905 ],\n",
       "       [1.3973932 ],\n",
       "       [1.3995697 ],\n",
       "       [1.3747925 ],\n",
       "       [1.3355925 ],\n",
       "       [1.2955642 ],\n",
       "       [1.2699714 ],\n",
       "       [1.2593648 ],\n",
       "       [1.2573482 ]], dtype=float32)"
      ]
     },
     "execution_count": 19,
     "metadata": {},
     "output_type": "execute_result"
    }
   ],
   "source": [
    "y_pred = model.predict(X_test)\n",
    "y_pred"
   ]
  },
  {
   "cell_type": "code",
   "execution_count": 20,
   "metadata": {},
   "outputs": [],
   "source": [
    "predicted_price = sc.inverse_transform(y_pred)"
   ]
  },
  {
   "cell_type": "code",
   "execution_count": 22,
   "metadata": {
    "scrolled": false
   },
   "outputs": [
    {
     "data": {
      "text/plain": [
       "array([[ 952.0172 ],\n",
       "       [ 954.0243 ],\n",
       "       [ 959.0932 ],\n",
       "       [ 966.6197 ],\n",
       "       [ 973.5848 ],\n",
       "       [ 975.89746],\n",
       "       [ 972.69666],\n",
       "       [ 966.2091 ],\n",
       "       [ 960.6038 ],\n",
       "       [ 957.66797],\n",
       "       [ 954.26544],\n",
       "       [ 949.65326],\n",
       "       [ 945.2974 ],\n",
       "       [ 941.2593 ],\n",
       "       [ 939.7007 ],\n",
       "       [ 940.86835],\n",
       "       [ 947.2446 ],\n",
       "       [ 958.35803],\n",
       "       [ 972.1494 ],\n",
       "       [ 986.66656],\n",
       "       [ 994.9988 ],\n",
       "       [ 996.4231 ],\n",
       "       [ 990.06244],\n",
       "       [ 978.4711 ],\n",
       "       [ 966.1123 ],\n",
       "       [ 956.9845 ],\n",
       "       [ 952.42584],\n",
       "       [ 950.4496 ],\n",
       "       [ 947.5348 ],\n",
       "       [ 943.6438 ],\n",
       "       [ 939.2253 ],\n",
       "       [ 934.1017 ],\n",
       "       [ 926.62036],\n",
       "       [ 917.0912 ],\n",
       "       [ 911.7793 ],\n",
       "       [ 913.5766 ],\n",
       "       [ 921.2361 ],\n",
       "       [ 931.74207],\n",
       "       [ 942.89795],\n",
       "       [ 950.4899 ],\n",
       "       [ 957.2031 ],\n",
       "       [ 964.08813],\n",
       "       [ 971.4535 ],\n",
       "       [ 978.3531 ],\n",
       "       [ 983.34955],\n",
       "       [ 984.6977 ],\n",
       "       [ 981.4166 ],\n",
       "       [ 977.18243],\n",
       "       [ 974.55566],\n",
       "       [ 974.95544],\n",
       "       [ 978.62256],\n",
       "       [ 982.0468 ],\n",
       "       [ 983.69147],\n",
       "       [ 983.20264],\n",
       "       [ 982.51154],\n",
       "       [ 980.91583],\n",
       "       [ 977.57794],\n",
       "       [ 975.16016],\n",
       "       [ 977.09686],\n",
       "       [ 983.0702 ],\n",
       "       [ 992.9056 ],\n",
       "       [1005.64594],\n",
       "       [1016.22473],\n",
       "       [1020.5093 ],\n",
       "       [1017.9058 ],\n",
       "       [1010.47546],\n",
       "       [1003.29535],\n",
       "       [ 998.88116],\n",
       "       [ 997.7907 ],\n",
       "       [ 998.57446],\n",
       "       [1000.3356 ],\n",
       "       [1001.9143 ],\n",
       "       [1001.354  ],\n",
       "       [ 999.635  ],\n",
       "       [ 997.7092 ],\n",
       "       [ 996.6946 ],\n",
       "       [ 996.9645 ],\n",
       "       [ 998.5787 ],\n",
       "       [1002.80206],\n",
       "       [1009.68317],\n",
       "       [1019.0132 ],\n",
       "       [1028.7202 ],\n",
       "       [1035.509  ],\n",
       "       [1038.0277 ],\n",
       "       [1039.6532 ],\n",
       "       [1043.4279 ],\n",
       "       [1049.4117 ],\n",
       "       [1055.3754 ],\n",
       "       [1059.4686 ],\n",
       "       [1060.9546 ],\n",
       "       [1061.3927 ],\n",
       "       [1063.8573 ],\n",
       "       [1069.2784 ],\n",
       "       [1073.9426 ],\n",
       "       [1074.6672 ],\n",
       "       [1070.4706 ],\n",
       "       [1061.8246 ],\n",
       "       [1050.6733 ],\n",
       "       [1040.0211 ],\n",
       "       [1033.8143 ],\n",
       "       [1033.5239 ],\n",
       "       [1038.5195 ],\n",
       "       [1047.3416 ],\n",
       "       [1056.7592 ],\n",
       "       [1064.083  ],\n",
       "       [1067.6117 ],\n",
       "       [1067.9639 ],\n",
       "       [1066.553  ],\n",
       "       [1065.7452 ],\n",
       "       [1066.5753 ],\n",
       "       [1069.278  ],\n",
       "       [1073.8383 ],\n",
       "       [1079.1445 ],\n",
       "       [1085.0459 ],\n",
       "       [1092.1044 ],\n",
       "       [1098.5472 ],\n",
       "       [1103.6909 ],\n",
       "       [1107.8229 ],\n",
       "       [1112.2417 ],\n",
       "       [1107.1936 ],\n",
       "       [1090.2334 ],\n",
       "       [1065.5916 ],\n",
       "       [1041.8912 ],\n",
       "       [1024.9065 ],\n",
       "       [1015.2589 ],\n",
       "       [1011.3551 ],\n",
       "       [1011.1581 ],\n",
       "       [1013.3295 ],\n",
       "       [1014.0177 ],\n",
       "       [1011.2729 ],\n",
       "       [1009.7287 ],\n",
       "       [1012.853  ],\n",
       "       [1019.1189 ],\n",
       "       [1024.2141 ],\n",
       "       [1027.157  ],\n",
       "       [1028.2996 ],\n",
       "       [1027.3984 ],\n",
       "       [1024.3931 ],\n",
       "       [1020.2151 ],\n",
       "       [1014.4818 ],\n",
       "       [1008.12024],\n",
       "       [1001.13855],\n",
       "       [ 988.7409 ],\n",
       "       [ 973.0053 ],\n",
       "       [ 956.6407 ],\n",
       "       [ 942.7252 ],\n",
       "       [ 934.9325 ],\n",
       "       [ 935.2268 ],\n",
       "       [ 942.33795],\n",
       "       [ 953.20807],\n",
       "       [ 965.616  ],\n",
       "       [ 977.07983],\n",
       "       [ 986.5013 ],\n",
       "       [ 994.18243],\n",
       "       [ 999.98553],\n",
       "       [1004.49133],\n",
       "       [1008.6598 ],\n",
       "       [1011.9233 ],\n",
       "       [1011.3079 ],\n",
       "       [1005.9678 ],\n",
       "       [ 997.0584 ],\n",
       "       [ 987.26263],\n",
       "       [ 980.1704 ],\n",
       "       [ 978.2276 ],\n",
       "       [ 982.01465],\n",
       "       [ 990.62775],\n",
       "       [1000.25525],\n",
       "       [1008.74493],\n",
       "       [1016.17944],\n",
       "       [1022.6172 ],\n",
       "       [1027.7397 ],\n",
       "       [1031.6268 ],\n",
       "       [1034.4368 ],\n",
       "       [1035.4858 ],\n",
       "       [1034.7134 ],\n",
       "       [1031.1586 ],\n",
       "       [1026.1255 ],\n",
       "       [1021.72375],\n",
       "       [1018.2695 ],\n",
       "       [1015.33185],\n",
       "       [1023.0246 ],\n",
       "       [1041.3295 ],\n",
       "       [1063.6334 ],\n",
       "       [1082.5592 ],\n",
       "       [1093.4207 ],\n",
       "       [1094.3586 ],\n",
       "       [1083.6805 ],\n",
       "       [1066.787  ],\n",
       "       [1049.5364 ],\n",
       "       [1038.5068 ],\n",
       "       [1033.9359 ],\n",
       "       [1033.0668 ]], dtype=float32)"
      ]
     },
     "execution_count": 22,
     "metadata": {},
     "output_type": "execute_result"
    }
   ],
   "source": [
    "predicted_price"
   ]
  },
  {
   "cell_type": "code",
   "execution_count": 23,
   "metadata": {},
   "outputs": [
    {
     "data": {
      "image/png": "[encoded data removed]",
      "text/plain": [
       "<Figure size 432x288 with 1 Axes>"
      ]
     },
     "metadata": {
      "needs_background": "light"
     },
     "output_type": "display_data"
    }
   ],
   "source": [
    "plt.plot(y_test, color = 'red', label = 'Actual Stock Price')\n",
    "plt.plot(predicted_price, color = 'green', label = 'Predicted Stock Price')\n",
    "plt.title('Google stock price prediction')\n",
    "plt.xlabel('Time')\n",
    "plt.ylabel('Stock Price')\n",
    "plt.legend()\n",
    "plt.show()"
   ]
  },
  {
   "cell_type": "code",
   "execution_count": null,
   "metadata": {},
   "outputs": [],
   "source": []
  }
 ],
 "metadata": {
  "celltoolbar": "Slideshow",
  "kernelspec": {
   "display_name": "Python 3",
   "language": "python",
   "name": "python3"
  },
  "language_info": {
   "codemirror_mode": {
    "name": "ipython",
    "version": 3
   },
   "file_extension": ".py",
   "mimetype": "text/x-python",
   "name": "python",
   "nbconvert_exporter": "python",
   "pygments_lexer": "ipython3",
   "version": "3.8.8"
  }
 },
 "nbformat": 4,
 "nbformat_minor": 4
}
